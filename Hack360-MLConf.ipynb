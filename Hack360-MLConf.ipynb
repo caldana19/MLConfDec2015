{
 "cells": [
  {
   "cell_type": "markdown",
   "metadata": {},
   "source": [
    "<h1>Example 1: User360 Demographic Prediction Hackathon</h1>\n",
    "\n",
    "<p>"
   ]
  },
  {
   "cell_type": "code",
   "execution_count": 1,
   "metadata": {
    "collapsed": false
   },
   "outputs": [],
   "source": [
    "import os\n",
    "import csv\n",
    "import math\n",
    "\n",
    "import pandas as pd\n",
    "import numpy as np\n",
    "import random\n",
    "import scipy as sp\n",
    "import re\n",
    "import pickle\n",
    "\n",
    "\n",
    "from sklearn.svm import LinearSVC\n",
    "from sklearn.cluster import KMeans\n",
    "import sklearn.cross_validation as cv\n",
    "from sklearn import cross_validation\n",
    "from sklearn.metrics import accuracy_score\n",
    "from sklearn.feature_extraction.text import TfidfVectorizer\n",
    "from sklearn.preprocessing import Normalizer\n",
    "\n",
    "from sklearn.ensemble import ExtraTreesClassifier\n",
    "from sklearn.feature_selection import SelectKBest, chi2\n",
    "from sklearn.preprocessing import OneHotEncoder\n",
    "from sklearn.ensemble import RandomForestClassifier"
   ]
  },
  {
   "cell_type": "code",
   "execution_count": 4,
   "metadata": {
    "collapsed": false
   },
   "outputs": [],
   "source": [
    "train_s = pd.read_csv(\"hack360_train_summary_v2.csv\")\n",
    "cols = ['anon_user_id','NormalizedQuery','OSProductName', 'DeviceType','UserCEFSegment','IPCountry','IPPostalCode', 'IPCity','IPState']\n",
    "train_f = pd.read_csv(\"hack360_train_full.csv\",usecols=cols)\n",
    "train_f['IPPostalCode']=train_f['IPPostalCode'].apply(lambda x:str(x))\n",
    "train_s.fillna(0, inplace=True)\n",
    "train_f.fillna('', inplace=True)\n",
    "for c in ['IPCountry','IPCity']:\n",
    "    train_f[c]=train_f[c].apply(lambda x:re.sub(\"\\s\",\"\",x))\n",
    "fts=['NormalizedQuery','OSProductName','UserCEFSegment','DeviceType','IPCountry','IPPostalCode','IPCity','IPState']\n",
    "train_f['NormalizedQuery']=train_f[fts].apply(lambda x:re.sub(\"\\n\",\"\",' '.join(x)), axis=1)\n",
    "train_f = train_f.groupby('anon_user_id').agg(lambda x:' '.join(x))\n",
    "train = pd.merge(train_s, train_f, left_on=\"anon_user_id\", right_index=True)\n",
    "train.to_csv(\"Hack360_train.csv\", index=False)\n",
    "\n",
    "f =  open(\"Hack360_Qcols.pk\", 'wb')\n",
    "qcols = []\n",
    "for c in train_s.columns:\n",
    "    if re.match('sum_Query.*',c)!=None:\n",
    "        qcols.append(c)\n",
    "pickle.dump(qcols,f)\n",
    "f.close()\n",
    "Qr = train[qcols].values.astype(float)\n",
    "\n",
    "\n",
    "nr = Normalizer()\n",
    "Qr = nr.fit_transform(Qr)\n",
    "f =  open(\"Hack360_Normalize.pk\", 'wb')\n",
    "pickle.dump(nr,f)\n",
    "f.close()\n",
    "\n",
    "km = KMeans(n_clusters=32)\n",
    "train['ct'] = km.fit_predict(Qr)\n",
    "f =  open(\"Hack360_Kmeans.pk\", 'wb')\n",
    "pickle.dump(km, f)\n",
    "f.close()\n",
    "\n",
    "enc = OneHotEncoder()\n",
    "enc.fit(train[['ct']].values)\n",
    "f = open(\"Hack360_Encoder.pk\", 'wb')\n",
    "pickle.dump(enc, f)\n",
    "f.close()\n",
    "\n",
    "cv1 = TfidfVectorizer(min_df=0.0001, binary=True)\n",
    "X_tr = sp.sparse.hstack((enc.transform(train[['ct']].values), cv1.fit_transform(train.NormalizedQuery)), format='csr')\n",
    "f = open(\"Hack360_TfidfVectorizer.pk\", 'wb')\n",
    "pickle.dump(cv1, f)\n",
    "f.close()\n",
    "\n",
    "Y_tr = train['target_Gender'].values\n",
    "ch2 = SelectKBest(chi2, k=30000)\n",
    "X_tr = ch2.fit_transform(X_tr, Y_tr)\n",
    "f = open(\"Hack360_Ch2.pk\", 'wb')\n",
    "pickle.dump(ch2, f)\n",
    "f.close()\n",
    "\n",
    "clf_y = LinearSVC(C=0.3,random_state=0, class_weight='auto')\n",
    "clf_y.fit(X_tr, Y_tr)\n",
    "f = open(\"Hack360_LibSVM.pk\", 'wb')\n",
    "pickle.dump(clf_y, f)\n",
    "f.close()\n"
   ]
  },
  {
   "cell_type": "code",
   "execution_count": 5,
   "metadata": {
    "collapsed": false
   },
   "outputs": [],
   "source": [
    "test_s = pd.read_csv(\"hack360_test_summary_v2.csv\")\n",
    "cols = ['anon_user_id','NormalizedQuery','OSProductName', 'DeviceType','UserCEFSegment','IPCountry','IPPostalCode', 'IPCity','IPState']\n",
    "test_f = pd.read_csv(\"hack360_test_full.csv\",usecols=cols)\n",
    "test_f['IPPostalCode']=test_f['IPPostalCode'].apply(lambda x:str(x))\n",
    "test_s.fillna(0, inplace=True)\n",
    "test_f.fillna('', inplace=True)\n",
    "for c in ['IPCountry','IPCity']:\n",
    "    test_f[c]=test_f[c].apply(lambda x:re.sub(\"\\s\",\"\",x))\n",
    "fts=['NormalizedQuery','OSProductName','UserCEFSegment','DeviceType','IPCountry','IPPostalCode','IPCity','IPState']\n",
    "test_f['NormalizedQuery']=test_f[fts].apply(lambda x:' '.join(x), axis=1)\n",
    "test_f = test_f.groupby('anon_user_id').agg(lambda x:' '.join(x))\n",
    "test = pd.merge(test_s, test_f, left_on=\"anon_user_id\", right_index=True)\n",
    "test.to_csv(\"Hack360_test.csv\", index=False)\n",
    "\n",
    "qcols=[]\n",
    "for c in train_s.columns:\n",
    "    if re.match('sum_Query.*',c)!=None:\n",
    "        qcols.append(c)\n",
    "Qt = test[qcols].values.astype(float)\n",
    "\n",
    "f = open(\"Hack360_Normalize.pk\", 'rb')\n",
    "nr_t = pickle.load(f)\n",
    "f.close()\n",
    "Qt = nr_t.transform(Qt)\n",
    "\n",
    "f = open(\"Hack360_Kmeans.pk\", 'rb')\n",
    "km_t = pickle.load(f)\n",
    "f.close()\n",
    "test['ct'] = km_t.predict(Qt)\n",
    "\n",
    "f = open(\"Hack360_Encoder.pk\", 'rb')\n",
    "enc_t = pickle.load(f)\n",
    "f.close()\n",
    "\n",
    "f = open(\"Hack360_TfidfVectorizer.pk\", 'rb')\n",
    "cv1_t = pickle.load(f)\n",
    "f.close()\n",
    "\n",
    "X_te = sp.sparse.hstack((enc_t.transform(test[['ct']].values), cv1_t.transform(test.NormalizedQuery)), format='csr')\n",
    "\n",
    "f = open(\"Hack360_Ch2.pk\", 'rb')\n",
    "ch2_t = pickle.load(f)\n",
    "f.close()\n",
    "X_te = ch2_t.transform(X_te)\n",
    "\n",
    "f = open(\"Hack360_LibSVM.pk\", 'rb')\n",
    "clf1_y_t = pickle.load(f)\n",
    "f.close()\n",
    "y_p = clf1_y_t.predict(X_te)\n"
   ]
  },
  {
   "cell_type": "code",
   "execution_count": 8,
   "metadata": {
    "collapsed": false
   },
   "outputs": [
    {
     "name": "stdout",
     "output_type": "stream",
     "text": [
      "0.722192936215\n"
     ]
    },
    {
     "data": {
      "text/html": [
       "<div>\n",
       "<table border=\"1\" class=\"dataframe\">\n",
       "  <thead>\n",
       "    <tr style=\"text-align: right;\">\n",
       "      <th>Predicted</th>\n",
       "      <th>0</th>\n",
       "      <th>1</th>\n",
       "    </tr>\n",
       "    <tr>\n",
       "      <th>Actual</th>\n",
       "      <th></th>\n",
       "      <th></th>\n",
       "    </tr>\n",
       "  </thead>\n",
       "  <tbody>\n",
       "    <tr>\n",
       "      <th>0</th>\n",
       "      <td>0.658080</td>\n",
       "      <td>0.279962</td>\n",
       "    </tr>\n",
       "    <tr>\n",
       "      <th>1</th>\n",
       "      <td>0.275176</td>\n",
       "      <td>0.774688</td>\n",
       "    </tr>\n",
       "  </tbody>\n",
       "</table>\n",
       "</div>"
      ],
      "text/plain": [
       "Predicted         0         1\n",
       "Actual                       \n",
       "0          0.658080  0.279962\n",
       "1          0.275176  0.774688"
      ]
     },
     "execution_count": 8,
     "metadata": {},
     "output_type": "execute_result"
    }
   ],
   "source": [
    "ground_t = pd.read_csv(\"hack360_ground_truth.csv\")\n",
    "df = pd.DataFrame(test.anon_user_id)\n",
    "df = pd.merge(df, ground_t, on=\"anon_user_id\")\n",
    "y_t = df[df['is_train']==0]['target_Gender']\n",
    "print accuracy_score(y_t, y_p)\n",
    "\n",
    "y_actu = pd.Series(y_t, name='Actual')\n",
    "y_pred = pd.Series(y_p, name='Predicted')\n",
    "df_confusion = pd.crosstab(y_actu, y_pred, rownames=['Actual'], colnames=['Predicted'])\n",
    "df_conf_norm = df_confusion / df_confusion.sum(axis=1)\n",
    "df_conf_norm"
   ]
  },
  {
   "cell_type": "code",
   "execution_count": null,
   "metadata": {
    "collapsed": true
   },
   "outputs": [],
   "source": []
  }
 ],
 "metadata": {
  "kernelspec": {
   "display_name": "Python 2",
   "language": "python",
   "name": "python2"
  },
  "language_info": {
   "codemirror_mode": {
    "name": "ipython",
    "version": 2
   },
   "file_extension": ".py",
   "mimetype": "text/x-python",
   "name": "python",
   "nbconvert_exporter": "python",
   "pygments_lexer": "ipython2",
   "version": "2.7.8"
  }
 },
 "nbformat": 4,
 "nbformat_minor": 0
}
