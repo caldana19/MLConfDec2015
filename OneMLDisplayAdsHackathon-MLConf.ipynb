{
 "cells": [
  {
   "cell_type": "code",
   "execution_count": 4,
   "metadata": {
    "collapsed": false
   },
   "outputs": [],
   "source": [
    "import numpy as np\n",
    "import scipy as sp\n",
    "import pandas as pd\n",
    "import sklearn\n",
    "import numpy.linalg as lin\n",
    "import sklearn.cross_validation\n",
    "from sklearn.cross_validation import cross_val_score\n",
    "from sklearn.metrics import roc_auc_score\n",
    "from sklearn.metrics import auc\n",
    "from sklearn.datasets import load_svmlight_file\n",
    "from sklearn.preprocessing import Normalizer\n",
    "import fileinput\n",
    "from sklearn.feature_selection import SelectKBest, chi2\n",
    "from sklearn.preprocessing import Normalizer\n",
    "from sklearn.preprocessing import OneHotEncoder\n",
    "from sklearn.preprocessing import Binarizer\n",
    "from sklearn.cluster import KMeans\n",
    "\n",
    "import xgboost as xgb\n",
    "import pickle\n",
    "\n",
    "from sklearn.linear_model import LogisticRegression"
   ]
  },
  {
   "cell_type": "code",
   "execution_count": 5,
   "metadata": {
    "collapsed": false
   },
   "outputs": [],
   "source": [
    "dr='auto/'\n",
    "col = 'auto_researcher'\n",
    "#dr = 'elec/'\n",
    "#col = 'consumer_electronics'\n",
    "#dr = 'fin/'\n",
    "#col = 'financial_service'"
   ]
  },
  {
   "cell_type": "code",
   "execution_count": 12,
   "metadata": {
    "collapsed": false
   },
   "outputs": [],
   "source": [
    "user = pd.read_csv('u360_demodata.tsv', sep='\\t', header=None, usecols=[0,1,3,6], names=['UserID', 'Country', 'Genre','Age'])\n",
    "\n",
    "l=[]\n",
    "f = fileinput.input([dr + 'train_category_libsvm.dat'])\n",
    "for line in f:\n",
    "    l.append(int(line.split(' ', 1)[0]))\n",
    "f.close()\n",
    "df_tr = pd.merge(pd.DataFrame({'UserID':l}), user, how=\"left\", on=\"UserID\")\n",
    "df_tr.fillna('nan', inplace=True)\n",
    "\n",
    "Xtr, Ytr = load_svmlight_file(dr + \"train_category_libsvm_2.dat\")\n",
    "\n",
    "f = open(\"DisplayAds_params.pk\", 'wb')\n",
    "params = {}\n",
    "params['ncol']=Xtr.shape[1]\n",
    "pickle.dump(params,f)\n",
    "f.close()\n",
    "\n",
    "cat_cols = ['Country','Genre','Age']\n",
    "for c in cat_cols:\n",
    "    l = np.unique(list(df_tr[c].values))\n",
    "    f = open(\"DisplayAds_\" + c + \".pk\", 'wb')\n",
    "    dt = {k:v for (k, v) in zip(l, range(1,len(l)+1)) if v!='nan'}\n",
    "    dt['nan'] = 0\n",
    "    pickle.dump(dt,f)\n",
    "    f.close()\n",
    "    df_tr[c] = df_tr[c].apply(lambda x:dt[x])\n",
    "\n",
    "enc = OneHotEncoder()\n",
    "enc.fit(df_tr[cat_cols])\n",
    "f = open(\"DisplayAds_Encoder.pk\", 'wb')\n",
    "pickle.dump(enc,f)              \n",
    "f.close()\n",
    "                  \n",
    "Xtr = sp.sparse.hstack([enc.transform(df_tr[cat_cols].values), Xtr], format='csr')\n",
    "\n",
    "f =  open(\"DisplayAds_Normalizer.pk\", 'wb')\n",
    "nr = Normalizer()\n",
    "_Xtr = nr.fit_transform(Xtr)\n",
    "pickle.dump(nr, f)              \n",
    "f.close()\n",
    "                  \n",
    "f =  open(\"DisplayAds_Clf.pk\", 'wb')\n",
    "clf = LogisticRegression(C=0.2,class_weight='auto', random_state=0)\n",
    "clf.fit(_Xtr, Ytr)\n",
    "pickle.dump(clf, f)              "
   ]
  },
  {
   "cell_type": "code",
   "execution_count": 13,
   "metadata": {
    "collapsed": false
   },
   "outputs": [],
   "source": [
    "user = pd.read_csv('u360_demodata.tsv', sep='\\t', header=None, usecols=[0,1,3,6], names=['UserID', 'Country', 'Genre','Age'])\n",
    "\n",
    "l=[]\n",
    "f = fileinput.input([dr + 'test_category_libsvm.dat'])\n",
    "for line in f:\n",
    "    l.append(int(line.split(' ', 1)[0]))\n",
    "f.close()\n",
    "userids=np.array(l)\n",
    "df_te = pd.merge(pd.DataFrame({'UserID':l}), user, how=\"left\", on=\"UserID\")\n",
    "df_te.fillna('nan', inplace=True)\n",
    "\n",
    "Xte, Yte = load_svmlight_file(dr + \"test_category_libsvm_2.dat\")\n",
    "\n",
    "f = open(\"DisplayAds_params.pk\", 'rb')\n",
    "params = pickle.load(f)\n",
    "Xte = Xte[:,:params['ncol']]\n",
    "f.close()\n",
    "\n",
    "cat_cols = ['Country','Genre','Age']\n",
    "for c in cat_cols:\n",
    "    f = open(\"DisplayAds_\" + c + \".pk\", 'rb')\n",
    "    dt = pickle.load(f)\n",
    "    df_te[c] = df_te[c].apply(lambda x:dt[x] if x in dt.keys() else 0)\n",
    "    f.close()\n",
    "    \n",
    "f = open(\"DisplayAds_Encoder.pk\", 'rb')\n",
    "enc = pickle.load(f)\n",
    "Xte = sp.sparse.hstack([enc.transform(df_te[cat_cols].values), Xte], format='csr')\n",
    "f.close()\n",
    "\n",
    "f =  open(\"DisplayAds_Normalizer.pk\", 'rb')\n",
    "nr = pickle.load(f)\n",
    "_Xte = nr.transform(Xte)\n",
    "f.close()\n",
    "\n",
    "f =  open(\"DisplayAds_Clf.pk\", 'rb')\n",
    "clf = pickle.load(f)\n",
    "y_p = [x[1] for x in clf.predict_proba(_Xte)]\n",
    "f.close()"
   ]
  },
  {
   "cell_type": "code",
   "execution_count": 14,
   "metadata": {
    "collapsed": false
   },
   "outputs": [
    {
     "name": "stdout",
     "output_type": "stream",
     "text": [
      "0.721459883879\n"
     ]
    }
   ],
   "source": [
    "testLabel = pd.read_csv(dr + \"testLabel.dat\", sep='\\t')\n",
    "testLabel.sort('UserID',inplace=True)\n",
    "print roc_auc_score(testLabel.Label.values, y_p)"
   ]
  },
  {
   "cell_type": "code",
   "execution_count": 77,
   "metadata": {
    "collapsed": true
   },
   "outputs": [],
   "source": [
    "#0.721457931885\n",
    "#0.684729975559\n",
    "#0.589011822398\n",
    "\n"
   ]
  },
  {
   "cell_type": "code",
   "execution_count": null,
   "metadata": {
    "collapsed": true
   },
   "outputs": [],
   "source": []
  }
 ],
 "metadata": {
  "kernelspec": {
   "display_name": "Python 2",
   "language": "python",
   "name": "python2"
  },
  "language_info": {
   "codemirror_mode": {
    "name": "ipython",
    "version": 2
   },
   "file_extension": ".py",
   "mimetype": "text/x-python",
   "name": "python",
   "nbconvert_exporter": "python",
   "pygments_lexer": "ipython2",
   "version": "2.7.8"
  }
 },
 "nbformat": 4,
 "nbformat_minor": 0
}
